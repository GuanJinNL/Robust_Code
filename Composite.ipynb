{
 "cells": [
  {
   "cell_type": "code",
   "execution_count": 1,
   "id": "b3139606",
   "metadata": {},
   "outputs": [],
   "source": [
    "import numpy as np\n",
    "import cvxpy as cp\n",
    "import pandas as pd\n",
    "import mosek\n",
    "import matplotlib.pyplot as plt\n",
    "import Hit_and_Run as hr\n",
    "import phi_divergence as phi\n",
    "from scipy.optimize import fsolve"
   ]
  },
  {
   "cell_type": "code",
   "execution_count": 1,
   "id": "bfd6e369",
   "metadata": {},
   "outputs": [],
   "source": [
    "def poly_cvar(p,alpha,x,f,l):\n",
    "    n = len(x)\n",
    "    theta_1 = cp.Variable(1)\n",
    "    theta_2 = cp.Variable(1)\n",
    "    t = cp.Variable(1)\n",
    "    z = cp.Variable(n, nonneg= True)\n",
    "    s = cp.Variable(n)\n",
    "    constraints = [1-s/l*(1-p) <= z]\n",
    "    som = 0\n",
    "    for i in range(n):\n",
    "        constraints.append(theta_1 + cp.pos(1/alpha*(theta_2-x[i])) <= s[i])\n",
    "        som = som + l*f[i]*(1/p*(z[i]**(p/(p-1)))-1/p)\n",
    "    constraints.append(som <= t)\n",
    "    obj = cp.Maximize(theta_1+theta_2-t)\n",
    "    prob = cp.Problem(obj,constraints)\n",
    "    prob.solve(solver = cp.MOSEK)\n",
    "    return(prob.value)\n",
    "\n",
    "\n",
    "def poly_cvar_neg(p,alpha,x,f,l):\n",
    "    n = len(x)\n",
    "    theta_1 = cp.Variable(1)\n",
    "    theta_2 = cp.Variable(1)\n",
    "    t = cp.Variable(n)\n",
    "    w = cp.Variable(n, nonneg= True)\n",
    "    s = cp.Variable(n)\n",
    "    constraints = [w == 1 - (1-p)*s/l, s <= 1/(1-p)]\n",
    "    som = 0\n",
    "    exp = p/(p-1)\n",
    "    for i in range(n):\n",
    "        constraints.append(theta_1 + cp.pos(1/alpha*(theta_2-x[i])) <= s[i])\n",
    "        constraints.append(w[i]**exp <= t[i]*p/l + 1)\n",
    "    obj = cp.Maximize(theta_1+theta_2- f @ t)\n",
    "    prob = cp.Problem(obj,constraints)\n",
    "    prob.solve(solver = cp.MOSEK)\n",
    "    return(prob.value)\n",
    "\n",
    "\n",
    "def kl_cvar(alpha,x,f,l):\n",
    "    n = len(x)\n",
    "    theta_1 = cp.Variable(1)\n",
    "    theta_2 = cp.Variable(1)\n",
    "    t = cp.Variable(n)\n",
    "    s = cp.Variable(n)\n",
    "    constraints = []\n",
    "    for i in range(n):\n",
    "        constraints.append(theta_1 + cp.pos(1/alpha*(theta_2-x[i])) <= s[i])\n",
    "        constraints.append(cp.exp(s[i]/l)-1 <= t[i])\n",
    "    obj = cp.Maximize(theta_1+theta_2-l*f @ t)\n",
    "    prob = cp.Problem(obj,constraints)\n",
    "    prob.solve(solver = cp.MOSEK)\n",
    "    return(prob.value)\n",
    "        \n",
    "def cvar(alpha,x,f):\n",
    "    eta = cp.Variable(1)\n",
    "    dom = cp.Variable(1)\n",
    "    constraints = [dom==1]\n",
    "    n = len(x)\n",
    "    som = 0\n",
    "    for i in range(n):\n",
    "        som = som + f[i]*cp.neg(x[i]+eta)\n",
    "    obj = cp.Minimize(eta+1/alpha*som)\n",
    "    prob = cp.Problem(obj,constraints)\n",
    "    prob.solve(solver = cp.MOSEK)\n",
    "    return(-prob.value)\n",
    "\n",
    "\n",
    "def kl_cvar_port(alpha,R,l,f):\n",
    "    n = len(R)\n",
    "    I = len(R[0])\n",
    "    a = cp.Variable(I)\n",
    "    theta_1 = cp.Variable(1)\n",
    "    theta_2 = cp.Variable(1)\n",
    "    t = cp.Variable(n)\n",
    "    s = cp.Variable(n)\n",
    "    constraints = [cp.sum(a) == 1, a >= 0]\n",
    "    X = R @ a\n",
    "    for i in range(n):\n",
    "        constraints.append(theta_1 + cp.pos(1/alpha*(theta_2-X[i])) <= s[i])\n",
    "        constraints.append(cp.exp(s[i]/l)-1 <= t[i])\n",
    "    obj = cp.Maximize(theta_1+theta_2-l*f @ t)\n",
    "    prob = cp.Problem(obj,constraints)\n",
    "    prob.solve(solver = cp.MOSEK)\n",
    "    return(prob.value, a.value)\n",
    "\n",
    "def poly_cvar_neg_port(p,alpha,R,f,l):\n",
    "    n = len(R)\n",
    "    I = len(R[0])\n",
    "    a = cp.Variable(I)\n",
    "    theta_1 = cp.Variable(1)\n",
    "    theta_2 = cp.Variable(1)\n",
    "    t = cp.Variable(n)\n",
    "    w = cp.Variable(n, nonneg= True)\n",
    "    s = cp.Variable(n)\n",
    "    constraints = [cp.sum(a) == 1, a >= 0, w == 1 - (1-p)*s/l, s <= 1/(1-p)]\n",
    "    som = 0\n",
    "    exp = p/(p-1)\n",
    "    X = R @ a\n",
    "    for i in range(n):\n",
    "        constraints.append(theta_1 + cp.pos(1/alpha*(theta_2-X[i])) <= s[i])\n",
    "        constraints.append(w[i]**exp <= t[i]*p/l + 1)\n",
    "    obj = cp.Maximize(theta_1+theta_2- f @ t)\n",
    "    prob = cp.Problem(obj,constraints)\n",
    "    prob.solve(solver = cp.MOSEK)\n",
    "    return(prob.value, a.value)\n",
    "\n",
    "\n",
    "def cvar_port(alpha,R,f):\n",
    "    n = len(R)\n",
    "    I = len(R[0])\n",
    "    a = cp.Variable(I)\n",
    "    eta = cp.Variable(1)\n",
    "    constraints = [cp.sum(a) == 1, a >= 0]\n",
    "    X = (R-r_f) @ a + r_f\n",
    "    som = 0\n",
    "    for i in range(n):\n",
    "        som = som - f[i]*cp.pos(-1/alpha * X[i])\n",
    "    obj = cp.Maximize(eta + som)\n",
    "    prob = cp.Problem(obj,constraints)\n",
    "    prob.solve(solver = cp.MOSEK)\n",
    "    return(prob.value, a.value)\n",
    "\n",
    "def poly_cvar_port_pos(p,alpha,x,f,l):\n",
    "    n = len(R)\n",
    "    I = len(R[0])\n",
    "    a = cp.Variable(I)\n",
    "    theta_1 = cp.Variable(1)\n",
    "    theta_2 = cp.Variable(1)\n",
    "    t = cp.Variable(1)\n",
    "    z = cp.Variable(n, nonneg= True)\n",
    "    s = cp.Variable(n)\n",
    "    constraints = [cp.sum(a)==1, a>=0, 1-s/l*(1-p) <= z]\n",
    "    X = R @ a\n",
    "    som = 0\n",
    "    for i in range(n):\n",
    "        constraints.append(theta_1 + cp.pos(1/alpha*(theta_2-X[i])) <= s[i])\n",
    "        som = som + l*f[i]*(1/p*(z[i]**(p/(p-1)))-1/p)\n",
    "    constraints.append(som <= t)\n",
    "    obj = cp.Maximize(theta_1+theta_2-t)\n",
    "    prob = cp.Problem(obj,constraints)\n",
    "    prob.solve(solver = cp.MOSEK)\n",
    "    return(prob.value, a.value)\n",
    "\n",
    "def cvar_fast(alpha,x,f):\n",
    "    n = len(f)\n",
    "    order = np.argsort(x)\n",
    "    x = np.sort(x)\n",
    "    f = f[order]\n",
    "    csum = np.cumsum(f)\n",
    "    if csum[0] > alpha:\n",
    "        return(x[0])\n",
    "    else:\n",
    "        k_max = np.max(np.where((csum < alpha)==True))\n",
    "    Ex = np.sum(np.multiply(x[0:k_max+1],f[0:k_max+1]))\n",
    "    last = (alpha - csum[k_max])*x[k_max+1]\n",
    "    return(1/alpha*(Ex+last))\n",
    "    \n",
    "def runif_in_simplex(n):\n",
    "    k = np.random.exponential(scale=1.0, size=n)\n",
    "    return k / sum(k)\n",
    "        \n",
    "    "
   ]
  },
  {
   "cell_type": "code",
   "execution_count": 3,
   "id": "6068672b",
   "metadata": {},
   "outputs": [],
   "source": [
    "####### lognormal models\n",
    "\n",
    "def kl_cv_por_logn(alpha,R,l,f):\n",
    "    n = len(R)\n",
    "    I = len(R[0])\n",
    "    a = cp.Variable(I)\n",
    "    theta_1 = cp.Variable(1)\n",
    "    theta_2 = cp.Variable(1)\n",
    "    t = cp.Variable(n)\n",
    "    s = cp.Variable(n)\n",
    "    constraints = [cp.sum(a) == 1, a >= 0]\n",
    "    X = R @ a\n",
    "    for i in range(n):\n",
    "        constraints.append(theta_1 + cp.pos(1/alpha*(theta_2-X[i])) <= s[i])\n",
    "        constraints.append(cp.exp(s[i]/l)-1 <= t[i])\n",
    "    obj = cp.Maximize(theta_1+theta_2-l*f @ t)\n",
    "    prob = cp.Problem(obj,constraints)\n",
    "    prob.solve(solver = cp.MOSEK)\n",
    "    return(prob.value, a.value)"
   ]
  },
  {
   "cell_type": "code",
   "execution_count": 4,
   "id": "d43bd77f",
   "metadata": {},
   "outputs": [],
   "source": [
    "def kl_cvarl(alpha,x,f,l,lbd):\n",
    "    n = len(x)\n",
    "    theta_1 = cp.Variable(1)\n",
    "    theta_2 = cp.Variable(1)\n",
    "    t = cp.Variable(n)\n",
    "    s = cp.Variable(n)\n",
    "    constraints = []\n",
    "    for i in range(n):\n",
    "        constraints.append(theta_1 + lbd*cp.pos(1/alpha*(theta_2-x[i])) <= s[i])\n",
    "        constraints.append(cp.exp(s[i]/l)-1 <= t[i])\n",
    "    obj = cp.Maximize(theta_1+theta_2-l*f @ t)\n",
    "    prob = cp.Problem(obj,constraints)\n",
    "    prob.solve(solver = cp.MOSEK)\n",
    "    return(prob.value)\n",
    "\n",
    "def poly_cvarl(p,alpha,x,f,l,lbd):\n",
    "    n = len(x)\n",
    "    theta_1 = cp.Variable(1)\n",
    "    theta_2 = cp.Variable(1)\n",
    "    t = cp.Variable(1)\n",
    "    z = cp.Variable(n, nonneg= True)\n",
    "    s = cp.Variable(n)\n",
    "    constraints = [1-s/l*(1-p) <= z]\n",
    "    som = 0\n",
    "    for i in range(n):\n",
    "        constraints.append(theta_1 + lbd*cp.pos(1/alpha*(theta_2-x[i])) <= s[i])\n",
    "        som = som + l*f[i]*(1/p*(z[i]**(p/(p-1)))-1/p)\n",
    "    constraints.append(som <= t)\n",
    "    obj = cp.Maximize(theta_1+theta_2-t)\n",
    "    prob = cp.Problem(obj,constraints)\n",
    "    prob.solve(solver = cp.MOSEK)\n",
    "    return(prob.value)"
   ]
  },
  {
   "cell_type": "code",
   "execution_count": 30,
   "id": "7c91e580",
   "metadata": {},
   "outputs": [
    {
     "data": {
      "text/plain": [
       "[<matplotlib.lines.Line2D at 0x216dd48e6a0>]"
      ]
     },
     "execution_count": 30,
     "metadata": {},
     "output_type": "execute_result"
    },
    {
     "data": {
      "image/png": "[encoded data removed]",
      "text/plain": [
       "<Figure size 432x288 with 1 Axes>"
      ]
     },
     "metadata": {
      "needs_background": "light"
     },
     "output_type": "display_data"
    }
   ],
   "source": [
    "np.random.seed(12)\n",
    "n = 100\n",
    "f = np.zeros(n)+1/n\n",
    "x = -(np.random.pareto(1,size = n)+1)\n",
    "alpha=0.1\n",
    "l=1\n",
    "lbd = np.array([0.1,0.15,0.25,0.3,0.5,0.7,2,5,10,20,25,30,50,55,60,70,75,80,85,90,100,110,150,200,1000])\n",
    "value = np.zeros(len(lbd))\n",
    "i = 0\n",
    "for l0 in lbd:\n",
    "    value[i] = poly_cvarl(2,alpha,x,f,l,l0)\n",
    "    i = i + 1\n",
    "plt.plot(lbd, value, 'o')"
   ]
  },
  {
   "cell_type": "code",
   "execution_count": 39,
   "id": "508ca6f5",
   "metadata": {
    "scrolled": false
   },
   "outputs": [
    {
     "name": "stdout",
     "output_type": "stream",
     "text": [
      "-10697.848083569077\n",
      "-11796.461610395578\n",
      "-10704.191915536945\n"
     ]
    }
   ],
   "source": [
    "np.random.seed(12)\n",
    "n = 1000\n",
    "f = np.zeros(n)+1/n\n",
    "x = -((np.random.pareto(50,size = n)+1)*10000)\n",
    "alpha=0.1\n",
    "l=1\n",
    "print(cvar(alpha,x,f))\n",
    "print(kl_cvar(alpha,x,f,l))\n",
    "print(poly_cvar(500,alpha,x,f,l))\n",
    "#print(poly_cvar_neg(0.001,alpha,x,f,l))"
   ]
  },
  {
   "cell_type": "code",
   "execution_count": 3,
   "id": "dc4e4767",
   "metadata": {},
   "outputs": [],
   "source": [
    "s = cp.Variable(2)"
   ]
  },
  {
   "cell_type": "code",
   "execution_count": 3,
   "id": "471aa82c",
   "metadata": {},
   "outputs": [
    {
     "data": {
      "text/plain": [
       "array([[ 1.  , -0.25,  0.25,  0.  ,  0.25],\n",
       "       [-0.25,  1.  ,  0.  ,  0.25,  0.25],\n",
       "       [ 0.25,  0.  ,  1.  ,  0.  ,  0.25],\n",
       "       [ 0.  ,  0.25,  0.  ,  1.  ,  0.5 ],\n",
       "       [ 0.25,  0.25,  0.25,  0.5 ,  1.  ]])"
      ]
     },
     "execution_count": 3,
     "metadata": {},
     "output_type": "execute_result"
    }
   ],
   "source": [
    "np.random.seed(12)\n",
    "mean = np.array([0.2,-0.15,0.1,0.13,0.18])\n",
    "cov_matrix = np.array([[1, -0.25, 0.25, 0, 0.25],[-0.25, 1, 0, 0.25, 0.25],[0.25, 0, 1, 0, 0.25],[0, 0.25, 0, 1, 0.5],[0.25, 0.25, 0.25, 0.5, 1]])\n",
    "#b = np.random.random(size = (5,5))*2-1\n",
    "#cov_matrix = b.dot(b.T)\n",
    "cov_matrix"
   ]
  },
  {
   "cell_type": "code",
   "execution_count": 4,
   "id": "f2f68234",
   "metadata": {},
   "outputs": [],
   "source": [
    "n = 3000\n",
    "R = np.random.multivariate_normal(mean,cov_matrix,n)\n",
    "alpha=0.05\n",
    "f = np.zeros(n)+1/n\n",
    "l = 1"
   ]
  },
  {
   "cell_type": "code",
   "execution_count": 119,
   "id": "1d51962e",
   "metadata": {},
   "outputs": [
    {
     "name": "stdout",
     "output_type": "stream",
     "text": [
      "-1.3258753615573877\n",
      "-1.3254476418240457\n",
      "-1.3260607829032485\n"
     ]
    }
   ],
   "source": [
    "wc_risk , wc_port = poly_cvar_port_pos(2,alpha,R,f,l)\n",
    "print(wc_risk)\n",
    "print(poly_cvar(2,alpha,R.dot(wc_port),f,l))\n",
    "print(cvar_fast(alpha,R.dot(wc_port),f))"
   ]
  },
  {
   "cell_type": "code",
   "execution_count": 13,
   "id": "77db2eeb",
   "metadata": {},
   "outputs": [
    {
     "name": "stdout",
     "output_type": "stream",
     "text": [
      "-1.6540916079836365\n"
     ]
    }
   ],
   "source": [
    "wc_risk , wc_port = poly_cvar_neg_port(0.3,alpha,R,f,l)\n",
    "nom_risk, nom_port = cvar_port(alpha,R,f)\n",
    "print(wc_risk)"
   ]
  },
  {
   "cell_type": "code",
   "execution_count": 5,
   "id": "d4d7b3f4",
   "metadata": {},
   "outputs": [
    {
     "name": "stdout",
     "output_type": "stream",
     "text": [
      "-1.5810634668972288\n",
      "-1.022891597344445\n"
     ]
    }
   ],
   "source": [
    "wc_risk, wc_port = kl_cvar_port(alpha,R,l,f)\n",
    "nom_risk, nom_port = cvar_port(alpha,R,f)\n",
    "print(wc_risk)\n",
    "print(nom_risk)"
   ]
  },
  {
   "cell_type": "code",
   "execution_count": 7,
   "id": "d21e7e2e",
   "metadata": {},
   "outputs": [
    {
     "data": {
      "text/plain": [
       "-1.7032486804449407"
      ]
     },
     "execution_count": 7,
     "metadata": {},
     "output_type": "execute_result"
    }
   ],
   "source": [
    "kl_cvar(alpha,R.dot(nom_port),f,l)"
   ]
  },
  {
   "cell_type": "code",
   "execution_count": 11,
   "id": "528d9a1d",
   "metadata": {},
   "outputs": [],
   "source": [
    "prob3 = []\n",
    "for i in range(30000):\n",
    "    prob3.append(runif_in_simplex(n))"
   ]
  },
  {
   "cell_type": "code",
   "execution_count": 16,
   "id": "5988c714",
   "metadata": {},
   "outputs": [
    {
     "name": "stderr",
     "output_type": "stream",
     "text": [
      "The PostScript backend does not support transparency; partially transparent artists will be rendered opaque.\n",
      "The PostScript backend does not support transparency; partially transparent artists will be rendered opaque.\n"
     ]
    },
    {
     "data": {
      "image/png": "[encoded data removed]",
      "text/plain": [
       "<Figure size 432x288 with 1 Axes>"
      ]
     },
     "metadata": {
      "needs_background": "light"
     },
     "output_type": "display_data"
    }
   ],
   "source": [
    "port_rob_risk = np.zeros(len(prob3))\n",
    "port_nom_risk = np.zeros(len(prob3))\n",
    "for i in range(len(prob3)):\n",
    "    port_rob_risk[i] = cvar_fast(alpha,R.dot(wc_port),prob3[i])\n",
    "    port_nom_risk[i] = cvar_fast(alpha,R.dot(nom_port),prob3[i])\n",
    "data1 = {' Robust Portfolio':port_rob_risk, 'Non-Robust Portfolio': port_nom_risk}\n",
    "dt1 = pd.DataFrame(data = data1)\n",
    "plt.hist(dt1,density = True, bins = 30)\n",
    "plt.ylabel('Density')\n",
    "plt.xlabel('OCE value with CVaR utility function')\n",
    "plt.legend(dt1.columns)\n",
    "plt.tight_layout()\n",
    "plt.savefig('CVaR_KL.eps', format = 'eps')"
   ]
  },
  {
   "cell_type": "code",
   "execution_count": 89,
   "id": "b31d6220",
   "metadata": {},
   "outputs": [
    {
     "name": "stdout",
     "output_type": "stream",
     "text": [
      "-1.7774510696116765\n",
      "-1.7888691856720806\n"
     ]
    }
   ],
   "source": [
    "print(np.min(port_rob_risk))\n",
    "print(np.min(port_nom_risk))"
   ]
  },
  {
   "cell_type": "code",
   "execution_count": 8,
   "id": "4e0b0c4c",
   "metadata": {},
   "outputs": [],
   "source": [
    "prob = []\n",
    "N = R.shape[0]\n",
    "mean = 1/n\n",
    "var = np.sqrt(0.1/(n**2))\n",
    "for i in range(20000):\n",
    "    q_real = np.zeros(N)\n",
    "    for j in range(N-1):\n",
    "        continu = True\n",
    "        while continu == True:\n",
    "            q = np.random.normal(mean,var)\n",
    "            if q>= 0:\n",
    "                continu = False\n",
    "                q_real[j] = q\n",
    "    last = 1-np.sum(q_real[0:n-1])\n",
    "    if last >= 0:\n",
    "        q_real[n-1] = last\n",
    "        prob.append(q_real)"
   ]
  },
  {
   "cell_type": "code",
   "execution_count": 290,
   "id": "7c200840",
   "metadata": {},
   "outputs": [
    {
     "data": {
      "text/plain": [
       "<matplotlib.legend.Legend at 0x21536a61cd0>"
      ]
     },
     "execution_count": 290,
     "metadata": {},
     "output_type": "execute_result"
    },
    {
     "data": {
      "image/png": "[encoded data removed]",
      "text/plain": [
       "<Figure size 432x288 with 1 Axes>"
      ]
     },
     "metadata": {
      "needs_background": "light"
     },
     "output_type": "display_data"
    }
   ],
   "source": [
    "port_rob_risk = np.zeros(len(prob))\n",
    "port_nom_risk = np.zeros(len(prob))\n",
    "for i in range(len(prob)):\n",
    "    port_rob_risk[i] = cvar_fast(alpha,R.dot(wc_port),prob[i])\n",
    "    port_nom_risk[i] = cvar_fast(alpha,R.dot(nom_port),prob[i])\n",
    "data1 = {' Robust Portfolio':port_rob_risk, 'Non-Robust Portfolio': port_nom_risk}\n",
    "dt1 = pd.DataFrame(data = data1)\n",
    "plt.hist(dt1,density = True, bins = 30)\n",
    "plt.ylabel('Density')\n",
    "plt.xlabel('OCE value with CVaR utility function')\n",
    "plt.legend(dt1.columns)"
   ]
  },
  {
   "cell_type": "code",
   "execution_count": 291,
   "id": "89f1b929",
   "metadata": {},
   "outputs": [
    {
     "name": "stdout",
     "output_type": "stream",
     "text": [
      "1.7231577869837802\n",
      "1.7393518919297388\n"
     ]
    }
   ],
   "source": [
    "print(cvar_fast(alpha,R.dot(wc_port),f))\n",
    "print(cvar_fast(alpha,R.dot(nom_port),f))\n",
    "      "
   ]
  },
  {
   "cell_type": "code",
   "execution_count": 228,
   "id": "5f85bea7",
   "metadata": {},
   "outputs": [],
   "source": [
    "prob2 = hr.hit_and_run(f,phi.kb_eva,1000,1,5000)"
   ]
  },
  {
   "cell_type": "code",
   "execution_count": 357,
   "id": "4f526b36",
   "metadata": {},
   "outputs": [
    {
     "name": "stdout",
     "output_type": "stream",
     "text": [
      "[1.32740802e-02 1.82721533e-10 2.68632462e-01 4.96527544e-01\n",
      " 2.21565914e-01]\n",
      "[2.33519051e-01 3.95830975e-12 6.54207190e-05 5.95074496e-01\n",
      " 1.71341032e-01]\n"
     ]
    }
   ],
   "source": [
    "print(wc_port)\n",
    "print(nom_port)"
   ]
  },
  {
   "cell_type": "code",
   "execution_count": 164,
   "id": "0b4da9ea",
   "metadata": {},
   "outputs": [
    {
     "data": {
      "text/plain": [
       "<matplotlib.legend.Legend at 0x215386e9c70>"
      ]
     },
     "execution_count": 164,
     "metadata": {},
     "output_type": "execute_result"
    },
    {
     "data": {
      "image/png": "[encoded data removed]",
      "text/plain": [
       "<Figure size 432x288 with 1 Axes>"
      ]
     },
     "metadata": {
      "needs_background": "light"
     },
     "output_type": "display_data"
    }
   ],
   "source": [
    "port_rob_return = np.zeros(len(prob))\n",
    "port_nom_return = np.zeros(len(prob))\n",
    "for i in range(len(prob)):\n",
    "    port_rob_return[i] = np.sum(np.multiply(R.dot(wc_port),prob[i]))\n",
    "    port_nom_return[i] = np.sum(np.multiply(R.dot(nom_port),prob[i]))\n",
    "data1 = {' Robust Portfolio':port_rob_return, 'Non-Robust Portfolio': port_nom_return}\n",
    "dt1 = pd.DataFrame(data = data1)\n",
    "plt.hist(dt1,density = True, bins = 100)\n",
    "plt.ylabel('Frequency')\n",
    "plt.xlabel('Mean Return')\n",
    "plt.legend(dt1.columns)"
   ]
  },
  {
   "cell_type": "code",
   "execution_count": 158,
   "id": "fbae17a5",
   "metadata": {},
   "outputs": [
    {
     "data": {
      "text/plain": [
       "array([0.0010164 , 0.00102851, 0.00106954, 0.00096677, 0.00114055,\n",
       "       0.00105774, 0.00097337, 0.00097999, 0.00100612, 0.0010016 ,\n",
       "       0.00101585, 0.00089399, 0.00098499, 0.00095048, 0.0010187 ,\n",
       "       0.00092122, 0.00104534, 0.00097121, 0.0009835 , 0.00110465,\n",
       "       0.00109903, 0.00101556, 0.00110754, 0.001004  , 0.00105593,\n",
       "       0.0009716 , 0.00103518, 0.00107191, 0.00093039, 0.00089766,\n",
       "       0.00099844, 0.0009582 , 0.00106906, 0.00100818, 0.00086006,\n",
       "       0.00105652, 0.00108419, 0.00082839, 0.00099613, 0.00122439,\n",
       "       0.00096256, 0.00104751, 0.0009782 , 0.00102014, 0.00096217,\n",
       "       0.00093402, 0.00104918, 0.0008976 , 0.00086847, 0.0010299 ,\n",
       "       0.00095231, 0.0009692 , 0.00099657, 0.00095247, 0.00089845,\n",
       "       0.00085487, 0.00103789, 0.00105529, 0.0010172 , 0.00093482,\n",
       "       0.0009708 , 0.00095786, 0.00106933, 0.00097016, 0.00112424,\n",
       "       0.00107041, 0.00092378, 0.00099009, 0.00102656, 0.00100358,\n",
       "       0.00102664, 0.00096797, 0.00101047, 0.00104631, 0.00101299,\n",
       "       0.00105735, 0.00093971, 0.00098407, 0.00102563, 0.00108101,\n",
       "       0.00092132, 0.00093703, 0.00109747, 0.00100368, 0.00085698,\n",
       "       0.00105301, 0.00099498, 0.00109309, 0.00096421, 0.00097094,\n",
       "       0.00110246, 0.00102372, 0.0009664 , 0.00094596, 0.00094472,\n",
       "       0.00094389, 0.00105666, 0.00102668, 0.00099303, 0.00098157,\n",
       "       0.00101502, 0.0010411 , 0.00097015, 0.00086132, 0.00100677,\n",
       "       0.0008575 , 0.00098783, 0.00095004, 0.00094961, 0.00111373,\n",
       "       0.00098872, 0.00098719, 0.00100573, 0.00086896, 0.00096407,\n",
       "       0.00113014, 0.00095418, 0.00104498, 0.00100369, 0.00098239,\n",
       "       0.00112278, 0.001034  , 0.00105776, 0.00109735, 0.00101762,\n",
       "       0.00098039, 0.0008837 , 0.00106229, 0.00114892, 0.00095226,\n",
       "       0.00099727, 0.00093359, 0.0009824 , 0.00099263, 0.00086041,\n",
       "       0.00100221, 0.00101416, 0.00100049, 0.00107517, 0.00102867,\n",
       "       0.00105628, 0.00095825, 0.00100938, 0.00097134, 0.00085671,\n",
       "       0.00110813, 0.00093359, 0.00111185, 0.00088052, 0.00108863,\n",
       "       0.00102924, 0.00112108, 0.00100134, 0.0010861 , 0.00103283,\n",
       "       0.00096714, 0.00096931, 0.00084883, 0.00092345, 0.00108502,\n",
       "       0.00110513, 0.00102474, 0.00094375, 0.00107789, 0.00105602,\n",
       "       0.00097528, 0.00105901, 0.00098513, 0.00099505, 0.00110646,\n",
       "       0.00110174, 0.00099056, 0.00082623, 0.00093141, 0.00090648,\n",
       "       0.00101894, 0.00103008, 0.00102713, 0.00102196, 0.00093923,\n",
       "       0.0009715 , 0.00098395, 0.001019  , 0.00097222, 0.0010565 ,\n",
       "       0.00102412, 0.0009254 , 0.00100872, 0.00096482, 0.00095237,\n",
       "       0.00092684, 0.00102709, 0.00098006, 0.00108127, 0.00090123,\n",
       "       0.00102699, 0.00089104, 0.0010432 , 0.00087454, 0.0008782 ,\n",
       "       0.0010311 , 0.000996  , 0.00111349, 0.00092084, 0.00097629,\n",
       "       0.00114225, 0.00091899, 0.00098594, 0.00099212, 0.00101328,\n",
       "       0.00097568, 0.00098665, 0.00105459, 0.00105465, 0.00107809,\n",
       "       0.00101862, 0.00096719, 0.00109006, 0.00094499, 0.00097445,\n",
       "       0.00108446, 0.00098481, 0.00098794, 0.00098054, 0.00104407,\n",
       "       0.0010719 , 0.00099148, 0.00094092, 0.00096345, 0.00100377,\n",
       "       0.00101277, 0.00087575, 0.00103432, 0.00101022, 0.00098285,\n",
       "       0.00101196, 0.00094304, 0.00106686, 0.00095991, 0.00113435,\n",
       "       0.00093289, 0.00102908, 0.00118305, 0.000935  , 0.00095659,\n",
       "       0.00087234, 0.00109554, 0.00094192, 0.00095369, 0.00082224,\n",
       "       0.00102686, 0.00099985, 0.00096858, 0.00095334, 0.00098342,\n",
       "       0.00111873, 0.00101598, 0.00091846, 0.00106434, 0.00100707,\n",
       "       0.0010818 , 0.00097147, 0.00091079, 0.00102338, 0.00103702,\n",
       "       0.00100073, 0.00094578, 0.00105409, 0.00101798, 0.00100466,\n",
       "       0.00108871, 0.00093991, 0.0011023 , 0.00107521, 0.00087358,\n",
       "       0.00090046, 0.00103747, 0.00091295, 0.00117505, 0.00098714,\n",
       "       0.00104444, 0.00093122, 0.00106065, 0.00110529, 0.00105056,\n",
       "       0.00095286, 0.00102525, 0.00102958, 0.00099256, 0.00114793,\n",
       "       0.00106601, 0.00096044, 0.00110174, 0.00103357, 0.00106698,\n",
       "       0.00103601, 0.00088775, 0.00113809, 0.00102509, 0.00090402,\n",
       "       0.00097725, 0.00088826, 0.00093478, 0.0010046 , 0.0009132 ,\n",
       "       0.00093419, 0.00106707, 0.00099157, 0.00088823, 0.00101081,\n",
       "       0.00105055, 0.00097796, 0.00112856, 0.00106177, 0.00097045,\n",
       "       0.00094196, 0.00103411, 0.00104045, 0.00100965, 0.00109297,\n",
       "       0.00100934, 0.00109127, 0.00109395, 0.00088934, 0.0009216 ,\n",
       "       0.00098801, 0.00102119, 0.00105815, 0.00085732, 0.00097477,\n",
       "       0.00086589, 0.0010626 , 0.00104676, 0.00107088, 0.00102785,\n",
       "       0.00106859, 0.00095438, 0.00103183, 0.00103952, 0.00098437,\n",
       "       0.00104341, 0.00115082, 0.00099416, 0.00081162, 0.00102855,\n",
       "       0.00097534, 0.00103462, 0.00089262, 0.00102681, 0.00094107,\n",
       "       0.00096221, 0.00092803, 0.00116967, 0.00103721, 0.00099667,\n",
       "       0.00082005, 0.00098424, 0.00104389, 0.00100489, 0.00102956,\n",
       "       0.0010147 , 0.00101153, 0.00092057, 0.00114645, 0.00100436,\n",
       "       0.00101001, 0.00108594, 0.00111579, 0.00100946, 0.0009665 ,\n",
       "       0.00097519, 0.00107498, 0.00083515, 0.00101575, 0.00103091,\n",
       "       0.00090908, 0.00091741, 0.0011289 , 0.00087224, 0.00113094,\n",
       "       0.00103912, 0.00101306, 0.00102521, 0.00088888, 0.00090034,\n",
       "       0.0010332 , 0.00085416, 0.00106622, 0.00091948, 0.00108056,\n",
       "       0.00107361, 0.00098352, 0.00105142, 0.00099833, 0.00101852,\n",
       "       0.00094504, 0.0009457 , 0.00087178, 0.00102677, 0.00083406,\n",
       "       0.00107316, 0.00110284, 0.00094473, 0.00088046, 0.00100441,\n",
       "       0.0009639 , 0.00101875, 0.00100447, 0.00107396, 0.0009839 ,\n",
       "       0.00099823, 0.00101694, 0.00101184, 0.00096609, 0.00088233,\n",
       "       0.0010017 , 0.00113385, 0.0010634 , 0.00119962, 0.00093818,\n",
       "       0.00104375, 0.00106607, 0.00100514, 0.00095944, 0.00099484,\n",
       "       0.00097887, 0.00092993, 0.00094913, 0.00095208, 0.00115881,\n",
       "       0.00100034, 0.00096548, 0.00079159, 0.00094347, 0.00103671,\n",
       "       0.00105552, 0.00102005, 0.00100652, 0.00109185, 0.00097691,\n",
       "       0.00095205, 0.00109792, 0.00104208, 0.00108891, 0.00083579,\n",
       "       0.00094055, 0.00095374, 0.00106337, 0.0009367 , 0.00097951,\n",
       "       0.00106527, 0.00111677, 0.00084439, 0.00112251, 0.0010243 ,\n",
       "       0.00090966, 0.00101951, 0.00105186, 0.00100972, 0.00101226,\n",
       "       0.00092273, 0.00098642, 0.00102564, 0.00104391, 0.00101992,\n",
       "       0.00096027, 0.001077  , 0.00099439, 0.00100217, 0.00109122,\n",
       "       0.00088772, 0.00097061, 0.00103338, 0.00099617, 0.00096161,\n",
       "       0.00095216, 0.00106084, 0.00101555, 0.00100002, 0.00097993,\n",
       "       0.00101576, 0.0011084 , 0.00102161, 0.00093345, 0.00125563,\n",
       "       0.00101182, 0.00090032, 0.00086444, 0.00087265, 0.00088021,\n",
       "       0.00101331, 0.00093536, 0.00104821, 0.00106363, 0.00098816,\n",
       "       0.00101775, 0.00103357, 0.00103877, 0.0010392 , 0.00110929,\n",
       "       0.00091492, 0.00107455, 0.00104729, 0.00098863, 0.00094454,\n",
       "       0.0010352 , 0.00105553, 0.0009937 , 0.0009867 , 0.00099847,\n",
       "       0.00101853, 0.00098112, 0.00086104, 0.00086507, 0.00089827,\n",
       "       0.00112793, 0.00101434, 0.00097264, 0.00095724, 0.00114592,\n",
       "       0.00097561, 0.00099779, 0.00094089, 0.00106669, 0.00093997,\n",
       "       0.00097216, 0.00095839, 0.00099192, 0.00100725, 0.00103838,\n",
       "       0.00104454, 0.00099019, 0.00103421, 0.00078739, 0.00089401,\n",
       "       0.00101571, 0.00091309, 0.00099494, 0.00101345, 0.00088682,\n",
       "       0.0009409 , 0.00108411, 0.001061  , 0.00104529, 0.0009242 ,\n",
       "       0.00110035, 0.00086728, 0.00107161, 0.00103095, 0.00110057,\n",
       "       0.00100962, 0.00099951, 0.00087263, 0.00095211, 0.00109268,\n",
       "       0.00104599, 0.00095837, 0.00110297, 0.00098912, 0.00098001,\n",
       "       0.00096222, 0.00098464, 0.00088858, 0.0009998 , 0.00104588,\n",
       "       0.00103051, 0.00106034, 0.0009851 , 0.00108876, 0.00101333,\n",
       "       0.00096006, 0.00101166, 0.00108496, 0.00099573, 0.00104323,\n",
       "       0.00089961, 0.00106516, 0.00097299, 0.00096676, 0.00090217,\n",
       "       0.00106802, 0.00086204, 0.00096912, 0.0011306 , 0.0008568 ,\n",
       "       0.00105265, 0.00093863, 0.0009946 , 0.00086551, 0.00100732,\n",
       "       0.00102082, 0.00112714, 0.00109309, 0.00087326, 0.00101687,\n",
       "       0.00101139, 0.00096166, 0.00100408, 0.00099427, 0.00103112,\n",
       "       0.00100242, 0.00104217, 0.00101809, 0.00104717, 0.00096018,\n",
       "       0.00088571, 0.00101426, 0.00099386, 0.00097914, 0.00088407,\n",
       "       0.00093411, 0.00090302, 0.00110784, 0.00103356, 0.00101615,\n",
       "       0.00087977, 0.00099348, 0.00083288, 0.00100161, 0.00114916,\n",
       "       0.00099554, 0.00106066, 0.0010805 , 0.00100993, 0.00095783,\n",
       "       0.00107524, 0.00091014, 0.0009384 , 0.00109103, 0.0009087 ,\n",
       "       0.00093291, 0.00103457, 0.00092241, 0.00103516, 0.00107866,\n",
       "       0.00087651, 0.00100592, 0.0010413 , 0.00102955, 0.00114554,\n",
       "       0.00102237, 0.0011117 , 0.00092149, 0.00098154, 0.00095385,\n",
       "       0.00104726, 0.00092404, 0.00097219, 0.00099696, 0.00102271,\n",
       "       0.00097734, 0.00104621, 0.00100179, 0.00089044, 0.00092627,\n",
       "       0.00113459, 0.00105339, 0.00094401, 0.00103118, 0.00108435,\n",
       "       0.00095857, 0.00093697, 0.00092423, 0.00106478, 0.00104313,\n",
       "       0.00096917, 0.0012332 , 0.00098683, 0.00091423, 0.00100818,\n",
       "       0.00096619, 0.00100759, 0.0011104 , 0.00113316, 0.00102047,\n",
       "       0.00091781, 0.00099964, 0.00102261, 0.00100589, 0.00109814,\n",
       "       0.00115092, 0.00093374, 0.00101099, 0.00106941, 0.00109075,\n",
       "       0.00097031, 0.00103575, 0.00084981, 0.00098289, 0.00109244,\n",
       "       0.00107929, 0.00099521, 0.001005  , 0.00107174, 0.00111685,\n",
       "       0.00106217, 0.00097412, 0.00098358, 0.00097383, 0.00108107,\n",
       "       0.00105207, 0.0011004 , 0.00096725, 0.00101434, 0.00100579,\n",
       "       0.00103475, 0.00095555, 0.00105034, 0.00085957, 0.0010116 ,\n",
       "       0.00098725, 0.00089411, 0.00100151, 0.00095031, 0.00094277,\n",
       "       0.00098109, 0.00110971, 0.00097394, 0.00115569, 0.00090604,\n",
       "       0.00102508, 0.00105489, 0.0009955 , 0.00090349, 0.00099694,\n",
       "       0.00100701, 0.00091631, 0.00098987, 0.00091885, 0.00098956,\n",
       "       0.00096646, 0.00095192, 0.00105028, 0.00099855, 0.001039  ,\n",
       "       0.00110263, 0.00094673, 0.00101256, 0.00097114, 0.00093499,\n",
       "       0.00104883, 0.00101938, 0.00094609, 0.00106063, 0.00095003,\n",
       "       0.00094554, 0.00106616, 0.00100293, 0.00109766, 0.00108594,\n",
       "       0.00094626, 0.00093496, 0.00101488, 0.00111194, 0.00098437,\n",
       "       0.00091167, 0.001094  , 0.00093822, 0.00097336, 0.00099477,\n",
       "       0.00105866, 0.00093389, 0.00095416, 0.00097735, 0.00097663,\n",
       "       0.00097607, 0.00115095, 0.00098289, 0.00107295, 0.00100543,\n",
       "       0.00106876, 0.00096321, 0.00102293, 0.00105007, 0.00098909,\n",
       "       0.00085908, 0.00109107, 0.00108911, 0.00103175, 0.00093937,\n",
       "       0.00097704, 0.00101023, 0.00103178, 0.00100807, 0.00111797,\n",
       "       0.00111015, 0.00110468, 0.00100391, 0.00101343, 0.00101637,\n",
       "       0.000886  , 0.00097961, 0.00098711, 0.00109922, 0.00101577,\n",
       "       0.00095152, 0.00092137, 0.00100061, 0.00095164, 0.00104784,\n",
       "       0.00090126, 0.00099159, 0.0010007 , 0.00107933, 0.00097188,\n",
       "       0.00084945, 0.00098538, 0.00099876, 0.00098975, 0.00103719,\n",
       "       0.00091182, 0.0010739 , 0.00087627, 0.00104807, 0.0009499 ,\n",
       "       0.00103614, 0.00105932, 0.00106148, 0.00107115, 0.00100548,\n",
       "       0.00097285, 0.00094786, 0.00089623, 0.00098553, 0.00099328,\n",
       "       0.00097328, 0.00102236, 0.00114536, 0.00102657, 0.00100441,\n",
       "       0.00107165, 0.00106826, 0.00104548, 0.00103877, 0.00098579,\n",
       "       0.00103139, 0.00101615, 0.001051  , 0.00105596, 0.00112047,\n",
       "       0.00089953, 0.00101356, 0.0009237 , 0.00101586, 0.00099781,\n",
       "       0.00109134, 0.00096519, 0.00099262, 0.00110873, 0.00104421,\n",
       "       0.00100687, 0.00113048, 0.00100711, 0.0009489 , 0.00095991,\n",
       "       0.00099451, 0.00105295, 0.00099777, 0.00096006, 0.00102017,\n",
       "       0.00111957, 0.0009628 , 0.00102191, 0.00089753, 0.00099755,\n",
       "       0.000929  , 0.00104753, 0.00087954, 0.00089939, 0.00097368,\n",
       "       0.00095651, 0.00095776, 0.00099169, 0.00089634, 0.00101701,\n",
       "       0.00099137, 0.00102222, 0.00094857, 0.00091314, 0.0010576 ,\n",
       "       0.00100653, 0.00105271, 0.00089425, 0.00101276, 0.0009162 ,\n",
       "       0.00099583, 0.00094448, 0.00096414, 0.00107774, 0.00110401,\n",
       "       0.00100248, 0.00102452, 0.00082892, 0.00091828, 0.00099336,\n",
       "       0.00108769, 0.00105777, 0.00114643, 0.00105099, 0.00103712,\n",
       "       0.00106251, 0.00088166, 0.0008873 , 0.00104017, 0.00099787,\n",
       "       0.00098795, 0.00089229, 0.00097723, 0.00095042, 0.00088662,\n",
       "       0.00099892, 0.00111275, 0.00109517, 0.00092811, 0.00112119,\n",
       "       0.00101245, 0.00099989, 0.00101927, 0.0009996 , 0.00103428,\n",
       "       0.00096725, 0.00100595, 0.00093952, 0.00105591, 0.00102592,\n",
       "       0.00097203, 0.00098198, 0.00090768, 0.00109473, 0.00115394,\n",
       "       0.00110224, 0.0010803 , 0.00097532, 0.00095022, 0.00092215,\n",
       "       0.00102617, 0.00108908, 0.0009594 , 0.00095803, 0.00101264,\n",
       "       0.00096391, 0.00096009, 0.001145  , 0.00104238, 0.00104976,\n",
       "       0.00097727, 0.00091732, 0.00103107, 0.00095838, 0.00101508,\n",
       "       0.0010763 , 0.00087806, 0.00093789, 0.00092578, 0.00094477,\n",
       "       0.00083998, 0.00101923, 0.00092649, 0.00099714, 0.00092991,\n",
       "       0.00094196, 0.00096979, 0.00101493, 0.00101131, 0.00090059,\n",
       "       0.00088925, 0.00098889, 0.00111327, 0.00090283, 0.00100144,\n",
       "       0.0009227 , 0.00100209, 0.00091874, 0.00104584, 0.00111855,\n",
       "       0.00109132, 0.00096491, 0.00113779, 0.00100157, 0.00101987,\n",
       "       0.00098824, 0.00086044, 0.00089202, 0.00097687, 0.00093164,\n",
       "       0.00096178, 0.00102919, 0.00095125, 0.00089005, 0.00094986,\n",
       "       0.00103704, 0.00095633, 0.00100247, 0.00105018, 0.00109004,\n",
       "       0.00106547, 0.00089713, 0.00102332, 0.00099253, 0.00107336])"
      ]
     },
     "execution_count": 158,
     "metadata": {},
     "output_type": "execute_result"
    }
   ],
   "source": [
    "np.sum(np.multiply(R.dot(wc_port),prob[3]))\n",
    "prob[3]"
   ]
  },
  {
   "cell_type": "code",
   "execution_count": 79,
   "id": "5c5ad14f",
   "metadata": {},
   "outputs": [],
   "source": [
    "n = 1000\n",
    "R = np.random.multivariate_normal(mean,cov_matrix,n)\n",
    "alpha=0.05\n",
    "f = np.zeros(n)+1/n\n",
    "L = np.array([0.01,0.1,0.2,0.5,1,5,10,15,20,30,50,70,100,200])\n",
    "wc_risk = np.zeros(len(L))\n",
    "nom_risk = np.zeros(len(L))\n",
    "i = 0 \n",
    "for l in L:\n",
    "    wc_risk[i], wc_port = kl_cvar_port(alpha,R,l,f)\n",
    "    nom_risk[i] = cvar(alpha,R.dot(wc_port),f)\n",
    "    i = i + 1"
   ]
  },
  {
   "cell_type": "code",
   "execution_count": 83,
   "id": "d5b07b63",
   "metadata": {},
   "outputs": [
    {
     "data": {
      "image/png": "[encoded data removed]",
      "text/plain": [
       "<Figure size 432x288 with 1 Axes>"
      ]
     },
     "metadata": {
      "needs_background": "light"
     },
     "output_type": "display_data"
    }
   ],
   "source": [
    "plt.plot(L,wc_risk, label = 'wc OCE robust portfolio')\n",
    "plt.plot(L,nom_risk, '--', label = 'nominal OCE robust portfolio')\n",
    "plt.xlabel('penalisation constant l')\n",
    "plt.ylabel('OCE value')\n",
    "plt.legend()\n",
    "plt.savefig('klcvar.png', format = 'png')"
   ]
  },
  {
   "cell_type": "code",
   "execution_count": 3,
   "id": "9591c949",
   "metadata": {},
   "outputs": [],
   "source": [
    "def partial_pcvar(theta, p, x, alpha):\n",
    "    arg_1 = theta[0] + 1/alpha * np.max(theta[1]-x,0)\n",
    "    arg_2 = theta[1] + 1/alpha * (theta[1] - x)\n",
    "    par1 = 0\n",
    "    par2 = 0\n",
    "    if arg_1 > 1/(1-p):\n",
    "        par1 = (1+(p-1)*arg_1)**(1/(p-1))\n",
    "    if theta[1] > x and arg_2 > 1/(1-p):\n",
    "        par2 = 1/alpha * (1+(p-1)*arg_2)**(1/(p-1))\n",
    "    return(par1, par2)\n",
    "\n",
    "def partial_pexp(theta, p, x):\n",
    "    arg = theta[0] + np.exp(theta[1]-x)-1\n",
    "    par1 = 0\n",
    "    par2 = 0\n",
    "    if arg > 1/(1-p):\n",
    "        par1 = (1+(p-1)*arg)**(1/(p-1))\n",
    "        par2 = par1 * np.exp(theta[1]-x)\n",
    "    return(par1, par2)\n",
    "\n",
    "def d_pcvar_pos(theta, *data):\n",
    "    p,X,alpha = data\n",
    "    n = len(X)\n",
    "    partial_1 = 0\n",
    "    partial_2 = 0\n",
    "    for i in range(n):\n",
    "        par1, par2 = partial_pcvar(theta, p, X[i], alpha)\n",
    "        partial_1 = partial_1 + par1\n",
    "        partial_2 = partial_2 + par2\n",
    "    return(1/n*partial_1-1, 1/n*partial_2-1)\n",
    "\n",
    "def d_pexp_pos(theta, *data):\n",
    "    p,X = data\n",
    "    n = len(X)\n",
    "    partial_1 = 0\n",
    "    partial_2 = 0\n",
    "    for i in range(n):\n",
    "        par1, par2 = partial_pexp(theta, p, X[i])\n",
    "        partial_1 = partial_1 + par1\n",
    "        partial_2 = partial_2 + par2\n",
    "    return(1/n*partial_1-1, 1/n*partial_2-1)\n",
    "\n",
    "def poly(p,x):\n",
    "    return((x**p-p*(x-1)-1)/(p*(p-1)))\n",
    "\n",
    "def wc_pcvar(root,*data):\n",
    "    p,X,alpha = data\n",
    "    n = len(X)\n",
    "    wc = 0\n",
    "    for i in range(n):\n",
    "        par1, par2 = partial_pcvar(root, p, X[i], alpha)\n",
    "        if par1!= 0 and par2/par1 >1/alpha:\n",
    "            return(np.infty)\n",
    "        wc = wc + X[i]*par2+poly(p,par1)\n",
    "    return(wc/n)\n",
    "\n",
    "def wc_pexp(root,*data):\n",
    "    p,X = data\n",
    "    n = len(X)\n",
    "    wc = 0\n",
    "    for i in range(n):\n",
    "        par1, par2 = partial_pexp(root, p, X[i])\n",
    "        if par1 == 0:\n",
    "            arg = X[i]*par2+poly(p,par1)\n",
    "        else:\n",
    "            frac = par2/par1\n",
    "            arg = X[i]*par2+par1*(frac*np.log(frac)-frac+1)+poly(p,par1)\n",
    "        wc = wc + arg\n",
    "    return(wc/n)\n",
    "    \n",
    "        "
   ]
  },
  {
   "cell_type": "code",
   "execution_count": 10,
   "id": "f5f2b263",
   "metadata": {},
   "outputs": [
    {
     "name": "stdout",
     "output_type": "stream",
     "text": [
      "(-4.474420833844306e-12, -1.1102230246251565e-15)\n",
      "12.610218207461918\n"
     ]
    }
   ],
   "source": [
    "np.random.seed(12)\n",
    "n = 100\n",
    "X = -(np.random.pareto(2,size = n)+1)\n",
    "data = (1.8,X,0.05)\n",
    "theta_0 = np.array([1,1])\n",
    "root = fsolve(d_pcvar_pos, theta_0, args = data)\n",
    "#root\n",
    "print(d_pcvar_pos(root, *data))\n",
    "print(wc_pcvar(root,*data))"
   ]
  },
  {
   "cell_type": "code",
   "execution_count": 1,
   "id": "f5b9c5d5",
   "metadata": {},
   "outputs": [
    {
     "ename": "NameError",
     "evalue": "name 'np' is not defined",
     "output_type": "error",
     "traceback": [
      "\u001b[1;31m---------------------------------------------------------------------------\u001b[0m",
      "\u001b[1;31mNameError\u001b[0m                                 Traceback (most recent call last)",
      "\u001b[1;32m<ipython-input-1-eac886fa011c>\u001b[0m in \u001b[0;36m<module>\u001b[1;34m\u001b[0m\n\u001b[1;32m----> 1\u001b[1;33m \u001b[0mnp\u001b[0m\u001b[1;33m.\u001b[0m\u001b[0mrandom\u001b[0m\u001b[1;33m.\u001b[0m\u001b[0mseed\u001b[0m\u001b[1;33m(\u001b[0m\u001b[1;36m12\u001b[0m\u001b[1;33m)\u001b[0m\u001b[1;33m\u001b[0m\u001b[1;33m\u001b[0m\u001b[0m\n\u001b[0m\u001b[0;32m      2\u001b[0m \u001b[0mn\u001b[0m \u001b[1;33m=\u001b[0m \u001b[1;36m1000\u001b[0m\u001b[1;33m\u001b[0m\u001b[1;33m\u001b[0m\u001b[0m\n\u001b[0;32m      3\u001b[0m \u001b[0mX\u001b[0m \u001b[1;33m=\u001b[0m \u001b[1;33m-\u001b[0m\u001b[1;36m2\u001b[0m\u001b[1;33m*\u001b[0m\u001b[0mnp\u001b[0m\u001b[1;33m.\u001b[0m\u001b[0mrandom\u001b[0m\u001b[1;33m.\u001b[0m\u001b[0mweibull\u001b[0m\u001b[1;33m(\u001b[0m\u001b[1;36m1\u001b[0m\u001b[1;33m,\u001b[0m\u001b[0msize\u001b[0m \u001b[1;33m=\u001b[0m \u001b[0mn\u001b[0m\u001b[1;33m)\u001b[0m\u001b[1;33m\u001b[0m\u001b[1;33m\u001b[0m\u001b[0m\n\u001b[0;32m      4\u001b[0m \u001b[0mdata\u001b[0m \u001b[1;33m=\u001b[0m \u001b[1;33m(\u001b[0m\u001b[1;36m1.01\u001b[0m\u001b[1;33m,\u001b[0m\u001b[0mX\u001b[0m\u001b[1;33m)\u001b[0m\u001b[1;33m\u001b[0m\u001b[1;33m\u001b[0m\u001b[0m\n\u001b[0;32m      5\u001b[0m \u001b[0mtheta_0\u001b[0m \u001b[1;33m=\u001b[0m \u001b[0mnp\u001b[0m\u001b[1;33m.\u001b[0m\u001b[0marray\u001b[0m\u001b[1;33m(\u001b[0m\u001b[1;33m[\u001b[0m\u001b[1;33m-\u001b[0m\u001b[1;36m407\u001b[0m\u001b[1;33m,\u001b[0m\u001b[1;33m-\u001b[0m\u001b[1;36m14.2\u001b[0m\u001b[1;33m]\u001b[0m\u001b[1;33m)\u001b[0m\u001b[1;33m\u001b[0m\u001b[1;33m\u001b[0m\u001b[0m\n",
      "\u001b[1;31mNameError\u001b[0m: name 'np' is not defined"
     ]
    }
   ],
   "source": [
    "np.random.seed(12)\n",
    "n = 1000\n",
    "X = -2*np.random.weibull(1,size = n)\n",
    "data = (1.01,X)\n",
    "theta_0 = np.array([-407,-14.2])\n",
    "root = fsolve(d_pexp_pos, theta_0, args = data)\n",
    "print(root)\n",
    "print(d_pexp_pos(root, *data))\n",
    "print(wc_pexp(root,*data))"
   ]
  },
  {
   "cell_type": "code",
   "execution_count": 21,
   "id": "b49e3d5a",
   "metadata": {},
   "outputs": [
    {
     "data": {
      "text/plain": [
       "-16.52455864851578"
      ]
     },
     "execution_count": 21,
     "metadata": {},
     "output_type": "execute_result"
    }
   ],
   "source": [
    "np.min(X)"
   ]
  },
  {
   "cell_type": "code",
   "execution_count": 45,
   "id": "1ffc5610",
   "metadata": {},
   "outputs": [
    {
     "name": "stdout",
     "output_type": "stream",
     "text": [
      "-9.938435712247697\n"
     ]
    }
   ],
   "source": [
    "def expOCE(X):\n",
    "    eta = cp.Variable(1)\n",
    "    a = cp.Variable(1)\n",
    "    n = len(X)\n",
    "    constraints = [a == 1]\n",
    "    som = 0\n",
    "    for i in range(n):\n",
    "        som = som + 1/n*(1-cp.exp(-X[i]+eta))\n",
    "    obj = cp.Maximize(eta+som)\n",
    "    prob = cp.Problem(obj,constraints)\n",
    "    prob.solve(solver = cp.MOSEK)\n",
    "    return(prob.value)\n",
    "    \n",
    "print(expOCE(X))\n",
    "    "
   ]
  },
  {
   "cell_type": "code",
   "execution_count": 89,
   "id": "04a9ff57",
   "metadata": {},
   "outputs": [
    {
     "data": {
      "text/plain": [
       "-2.0841910294809916"
      ]
     },
     "execution_count": 89,
     "metadata": {},
     "output_type": "execute_result"
    }
   ],
   "source": [
    "np.mean(X)"
   ]
  },
  {
   "cell_type": "code",
   "execution_count": 117,
   "id": "4ab3d451",
   "metadata": {},
   "outputs": [
    {
     "data": {
      "text/plain": [
       "-7.185768752686754"
      ]
     },
     "execution_count": 117,
     "metadata": {},
     "output_type": "execute_result"
    }
   ],
   "source": [
    "f = np.zeros(n)+1/n\n",
    "cvar_fast(0.05,X,f)"
   ]
  }
 ],
 "metadata": {
  "kernelspec": {
   "display_name": "Python 3 (ipykernel)",
   "language": "python",
   "name": "python3"
  },
  "language_info": {
   "codemirror_mode": {
    "name": "ipython",
    "version": 3
   },
   "file_extension": ".py",
   "mimetype": "text/x-python",
   "name": "python",
   "nbconvert_exporter": "python",
   "pygments_lexer": "ipython3",
   "version": "3.11.4"
  }
 },
 "nbformat": 4,
 "nbformat_minor": 5
}
