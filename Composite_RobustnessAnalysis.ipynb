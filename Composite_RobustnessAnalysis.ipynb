{
 "cells": [
  {
   "cell_type": "code",
   "execution_count": 2,
   "id": "c6f096c6",
   "metadata": {},
   "outputs": [],
   "source": [
    "import numpy as np\n",
    "import cvxpy as cp\n",
    "import pandas as pd\n",
    "import mosek\n",
    "import matplotlib.pyplot as plt\n",
    "import Hit_and_Run as hr\n",
    "import phi_divergence as phi\n",
    "from scipy.optimize import fsolve\n",
    "import scipy.stats as stats "
   ]
  },
  {
   "cell_type": "code",
   "execution_count": 63,
   "id": "08ad0cbb",
   "metadata": {},
   "outputs": [
    {
     "data": {
      "text/plain": [
       "[<matplotlib.lines.Line2D at 0x2363c67d2e0>]"
      ]
     },
     "execution_count": 63,
     "metadata": {},
     "output_type": "execute_result"
    },
    {
     "data": {
      "image/png": "[encoded data removed]",
      "text/plain": [
       "<Figure size 432x288 with 1 Axes>"
      ]
     },
     "metadata": {
      "needs_background": "light"
     },
     "output_type": "display_data"
    }
   ],
   "source": [
    "\n",
    "#define x-axis values\n",
    "x = np.linspace (0.1, 10, 100) \n",
    "def weibull_pdf(x,k,lbda):\n",
    "    a = k/lbda\n",
    "    b = x/lbda\n",
    "    return(a*b**(k-1)*np.exp(-b**k))\n",
    "\n",
    "#calculate pdf of Gamma distribution for each x-value\n",
    "y = stats.gamma.pdf(x, a=0.5, scale=8)\n",
    "z = weibull_pdf(x,1.001,1)\n",
    "\n",
    "\n",
    "\n",
    "#create plot of Gamma distribution\n",
    "plt.plot(x, y,color = 'red')\n",
    "plt.plot(x,z)\n"
   ]
  },
  {
   "cell_type": "code",
   "execution_count": null,
   "id": "91cc24c5",
   "metadata": {},
   "outputs": [],
   "source": []
  },
  {
   "cell_type": "code",
   "execution_count": 65,
   "id": "9325df28",
   "metadata": {},
   "outputs": [],
   "source": [
    "def poly_cvar_port_pos(p,alpha,R,f,l):\n",
    "    n = len(R)\n",
    "    I = len(R[0])\n",
    "    a = cp.Variable(I)\n",
    "    theta_1 = cp.Variable(1)\n",
    "    theta_2 = cp.Variable(1)\n",
    "    t = cp.Variable(n)\n",
    "    z = cp.Variable(n, nonneg= True)\n",
    "    s = cp.Variable(n)\n",
    "    constraints = [cp.sum(a)==1, a>=0, 1-s/l*(1-p) <= z]\n",
    "    X = R @ a\n",
    "    som = 0\n",
    "    for i in range(n):\n",
    "        constraints.append(theta_1 + cp.pos(1/alpha*(theta_2-X[i])) <= s[i])\n",
    "        arg = cp.pos(1+s[i]/l*(p-1))\n",
    "        constraints.append(l*(1/p*(arg)**(p/(p-1))-1/p) <= t[i])\n",
    "    obj = cp.Maximize(theta_1+theta_2-f@t)\n",
    "    prob = cp.Problem(obj,constraints)\n",
    "    prob.solve(solver = cp.MOSEK)\n",
    "    return(prob.value, a.value)\n",
    "\n",
    "def poly_cvar_port_ball(p,alpha,R,f,r):\n",
    "    n = len(R)\n",
    "    I = len(R[0])\n",
    "    a = cp.Variable(I)\n",
    "    theta_1 = cp.Variable(1)\n",
    "    theta_2 = cp.Variable(1)\n",
    "    lbda = cp.Variable(1, nonneg = True)\n",
    "    t = cp.Variable(n)\n",
    "    z = cp.Variable(n, nonneg= True)\n",
    "    s = cp.Variable(n)\n",
    "    X = R @ a\n",
    "    constraints = [lbda-s*(1-p) <= z]\n",
    "    macht = np.array([(p-1)/p, 1-(p-1)/p])\n",
    "    for i in range(n):\n",
    "        constraints.append(theta_1 + cp.pos(1/alpha*(theta_2-X[i])) <= s[i])\n",
    "        constraints.append(z[i] <= cp.geo_mean(cp.vstack([lbda+p*t[i],lbda]),macht))\n",
    "    obj = cp.Minimize(-theta_1-theta_2+lbda*r+t@f)\n",
    "    prob = cp.Problem(obj,constraints)\n",
    "    prob.solve(solver = cp.MOSEK)\n",
    "    return(prob.value, a.value)\n",
    "\n",
    "\n",
    "def cvar_port(alpha,R,f):\n",
    "    n = len(R)\n",
    "    I = len(R[0])\n",
    "    a = cp.Variable(I)\n",
    "    eta = cp.Variable(1)\n",
    "    som = 0\n",
    "    constraints = [cp.sum(a)==1, a>= 0]\n",
    "    X = R @ a\n",
    "    for i in range(n):\n",
    "        som = som - f[i]*cp.pos(-1/alpha * (X[i]-eta))\n",
    "    obj = cp.Maximize(eta + som)\n",
    "    prob = cp.Problem(obj,constraints)\n",
    "    prob.solve(solver = cp.MOSEK)\n",
    "    return(prob.value, a.value)\n",
    "\n",
    "def poly_cvar(p,alpha,x,f,l):\n",
    "    n = len(x)\n",
    "    theta_1 = cp.Variable(1)\n",
    "    theta_2 = cp.Variable(1)\n",
    "    t = cp.Variable(1)\n",
    "    z = cp.Variable(n, nonneg= True)\n",
    "    s = cp.Variable(n)\n",
    "    constraints = [1-s/l*(1-p) <= z]\n",
    "    som = 0\n",
    "    for i in range(n):\n",
    "        constraints.append(theta_1 + cp.pos(1/alpha*(theta_2-x[i])) <= s[i])\n",
    "        som = som + l*f[i]*(1/p*(z[i]**(p/(p-1)))-1/p)\n",
    "    constraints.append(som <= t)\n",
    "    obj = cp.Maximize(theta_1+theta_2-t)\n",
    "    prob = cp.Problem(obj,constraints)\n",
    "    prob.solve(solver = cp.MOSEK)\n",
    "    return(prob.value, theta_1.value, theta_2.value)\n",
    "\n"
   ]
  },
  {
   "cell_type": "code",
   "execution_count": 66,
   "id": "58e964a7",
   "metadata": {},
   "outputs": [],
   "source": [
    "def partial_pcvar(theta, p, x, alpha):\n",
    "    arg = 1 + (theta[0]-np.min([1/alpha * (x-theta[1]),0]))*(p-1)\n",
    "    par1 = np.max([arg,0])**(1/(p-1))\n",
    "    par2 = 0\n",
    "    if x <= theta[1]:\n",
    "        par2 = np.max([arg,0])**(1/(p-1))*(1/alpha)\n",
    "    return(par1, par2)\n",
    "\n",
    "def d_pcvar_pos(theta, *data):\n",
    "    p,X,alpha = data\n",
    "    n = len(X)\n",
    "    partial_1 = 0\n",
    "    partial_2 = 0\n",
    "    #print(theta)\n",
    "    for i in range(n):\n",
    "        par1, par2 = partial_pcvar(theta, p, X[i], alpha)\n",
    "        #print(par1,par2)\n",
    "        partial_1 = partial_1 + par1\n",
    "        partial_2 = partial_2 + par2\n",
    "    return(1/n*partial_1-1, 1/n*partial_2-1)\n",
    "\n",
    "def wc_pcvar2(root,*data):\n",
    "    p,X,alpha = data\n",
    "    n = len(X)\n",
    "    wc = 0\n",
    "    for i in range(n):\n",
    "        arg_1 = root[0] + 1/alpha * np.maximum(root[1]-X[i],0)\n",
    "        wc = wc - 1/n * poly_conj(p,arg_1)\n",
    "    return(wc + np.sum(root))\n",
    "\n",
    "def poly(p,x):\n",
    "    return((x**p-p*(x-1)-1)/(p*(p-1)))\n",
    "\n",
    "def poly_conj(p,x):\n",
    "    return(1/p*np.max([1+x*(p-1),0])**(p/(p-1))-1/p)"
   ]
  },
  {
   "cell_type": "code",
   "execution_count": 67,
   "id": "63cb4a53",
   "metadata": {},
   "outputs": [],
   "source": [
    "def cvar_fast(alpha,x,f):\n",
    "    n = len(f)\n",
    "    order = np.argsort(x)\n",
    "    x = np.sort(x)\n",
    "    f = f[order]\n",
    "    csum = np.cumsum(f)\n",
    "    if csum[0] > alpha:\n",
    "        return(x[0])\n",
    "    else:\n",
    "        k_max = np.max(np.where((csum < alpha)==True))\n",
    "    Ex = np.sum(np.multiply(x[0:k_max+1],f[0:k_max+1]))\n",
    "    last = (alpha - csum[k_max])*x[k_max+1]\n",
    "    return(1/alpha*(Ex+last))"
   ]
  },
  {
   "cell_type": "code",
   "execution_count": 33,
   "id": "77065b20",
   "metadata": {},
   "outputs": [
    {
     "name": "stdout",
     "output_type": "stream",
     "text": [
      "(-1.9224499930385968, array([0.65521222, 0.34478778]))\n",
      "(-2.2833950490976807, array([0.60538482, 0.39461518]))\n"
     ]
    }
   ],
   "source": [
    "np.random.seed(13)\n",
    "n = 1000\n",
    "f = np.zeros(n)+1/n\n",
    "mean = np.array([-0.1,-1.5])\n",
    "sigma = np.array([[1,-0.25],[-0.25,1]])\n",
    "R = np.random.multivariate_normal(mean, sigma,size = n)\n",
    "alpha=0.05\n",
    "l=1\n",
    "p = 2\n",
    "nom_sol = cvar_port(alpha,R,f)\n",
    "rob_sol = poly_cvar_port_pos(p,alpha,R,f,l)\n",
    "print(nom_sol)\n",
    "print(rob_sol)"
   ]
  },
  {
   "cell_type": "code",
   "execution_count": 185,
   "id": "da2efc12",
   "metadata": {},
   "outputs": [
    {
     "data": {
      "text/plain": [
       "-1.6883045480393672"
      ]
     },
     "execution_count": 185,
     "metadata": {},
     "output_type": "execute_result"
    }
   ],
   "source": [
    "R = np.random.multivariate_normal(mean, sigma,size = n)\n",
    "port = R.dot(nom_sol[1])\n",
    "cvar_fast(alpha,port,f)"
   ]
  },
  {
   "cell_type": "code",
   "execution_count": 186,
   "id": "c6866e83",
   "metadata": {},
   "outputs": [
    {
     "name": "stdout",
     "output_type": "stream",
     "text": [
      "[-0.07352941 -1.82937887]\n",
      "(-2.6645352591003757e-14, 0.0)\n",
      "-2.054457178651252\n"
     ]
    }
   ],
   "source": [
    "R2 = np.random.multivariate_normal(mean, sigma,size = n)\n",
    "port = R2.dot(nom_sol[1])\n",
    "data = (p,port,alpha)\n",
    "theta_0 = np.array([-0.072,-1.287])\n",
    "root = fsolve(d_pcvar_pos, theta_0, args = data)\n",
    "print(root)\n",
    "print(d_pcvar_pos(root, *data))\n",
    "print(wc_pcvar2(root,*data))\n",
    "#print(poly_cvar(p,alpha,port,f,l))"
   ]
  },
  {
   "cell_type": "code",
   "execution_count": 187,
   "id": "c8be8e9c",
   "metadata": {},
   "outputs": [
    {
     "name": "stdout",
     "output_type": "stream",
     "text": [
      "[-0.07243816 -1.82975838]\n",
      "(7.105427357601002e-15, 8.881784197001252e-15)\n",
      "-2.0477416570571783\n"
     ]
    }
   ],
   "source": [
    "port_rob = R2.dot(rob_sol[1])\n",
    "data2 = (p,port_rob,alpha)\n",
    "theta_0 = np.array([-0.069203,-1.32391])\n",
    "root = fsolve(d_pcvar_pos, theta_0, args = data2)\n",
    "print(root)\n",
    "print(d_pcvar_pos(root, *data2))\n",
    "print(wc_pcvar2(root,*data2))\n",
    "#print(poly_cvar(p,alpha,port_rob,f,l))"
   ]
  },
  {
   "cell_type": "code",
   "execution_count": 110,
   "id": "41a79e5b",
   "metadata": {},
   "outputs": [
    {
     "name": "stdout",
     "output_type": "stream",
     "text": [
      "0\n",
      "1\n",
      "3\n",
      "4\n",
      "5\n",
      "7\n",
      "8\n",
      "10\n",
      "11\n",
      "12\n",
      "13\n",
      "14\n",
      "15\n",
      "16\n",
      "17\n",
      "18\n",
      "19\n",
      "20\n",
      "21\n",
      "22\n",
      "23\n",
      "25\n",
      "26\n",
      "27\n",
      "28\n",
      "29\n",
      "30\n",
      "32\n",
      "33\n",
      "34\n",
      "35\n",
      "36\n"
     ]
    }
   ],
   "source": [
    "np.random.seed(13)\n",
    "n = 8000\n",
    "f = np.zeros(n)+1/n\n",
    "mean = np.array([-0.1,-1.5])\n",
    "sigma = np.array([[1,-0.25],[-0.25,1]])\n",
    "R = np.random.multivariate_normal(mean, sigma,size = n)\n",
    "w = np.arange(0,1.1,0.03)\n",
    "cvar_nom = []\n",
    "wc_cvar = []\n",
    "index = []\n",
    "alpha=0.05\n",
    "l=1\n",
    "p = 2\n",
    "for i in range(len(w)):\n",
    "    port = R.dot(np.array([w[i],1-w[i]]))\n",
    "    data2 = (p,port,alpha)\n",
    "    theta_0 = np.array([-0.069203,-1.32391])\n",
    "    root = fsolve(d_pcvar_pos, theta_0, args = data2)\n",
    "    root_value = d_pcvar_pos(root, *data2) \n",
    "    if np.max(root_value) <= 1e-5:\n",
    "        print(i)\n",
    "        index.append(i)\n",
    "        wc_cvar.append(wc_pcvar2(root,*data2))\n",
    "        cvar_nom.append(cvar_fast(alpha, port, f))"
   ]
  },
  {
   "cell_type": "code",
   "execution_count": 111,
   "id": "c12e00ff",
   "metadata": {},
   "outputs": [
    {
     "name": "stderr",
     "output_type": "stream",
     "text": [
      "The PostScript backend does not support transparency; partially transparent artists will be rendered opaque.\n",
      "The PostScript backend does not support transparency; partially transparent artists will be rendered opaque.\n"
     ]
    },
    {
     "data": {
      "image/png": "[encoded data removed]",
      "text/plain": [
       "<Figure size 648x504 with 1 Axes>"
      ]
     },
     "metadata": {
      "needs_background": "light"
     },
     "output_type": "display_data"
    }
   ],
   "source": [
    "plt.figure(figsize=(9, 7))\n",
    "plt.plot(w[index],-np.array(wc_cvar), label = 'Nominal Portfolio')\n",
    "plt.plot(w[index],-np.array(cvar_nom), label = 'Robust Portfolio')\n",
    "plt.scatter(w[index[np.argmax(wc_cvar)]], -np.max(wc_cvar), color = 'black', label = 'optimum robust')\n",
    "plt.scatter(w[index[np.argmax(cvar_nom)]], -np.max(cvar_nom),marker = \"D\", color = 'red', label = 'optimum nominal' )\n",
    "plt.legend()\n",
    "plt.xlabel('Portfolio Weight Asset 1')\n",
    "plt.ylabel('Robust CVaR value')\n",
    "plt.savefig('RobustCVaRPortfolio.eps', format = 'eps')"
   ]
  },
  {
   "cell_type": "code",
   "execution_count": 128,
   "id": "90ead82f",
   "metadata": {},
   "outputs": [
    {
     "name": "stdout",
     "output_type": "stream",
     "text": [
      "0\n",
      "1\n",
      "2\n",
      "3\n",
      "4\n",
      "5\n",
      "6\n",
      "7\n",
      "8\n",
      "9\n"
     ]
    }
   ],
   "source": [
    "mu_1 = -0.1 + np.random.normal(0,0.032*2,size = 10)\n",
    "mu_2 = -1.5 + np.random.normal(0,0.032*2,size = 10)\n",
    "wc_risk = np.zeros(len(mu_1))\n",
    "wc_portfolio = np.zeros(len(mu_1))\n",
    "alpha=0.05\n",
    "l=1\n",
    "p = 2\n",
    "for i in range(len(mu_1)):\n",
    "    print(i)\n",
    "    n = 2000\n",
    "    f = np.zeros(n)+1/n\n",
    "    mean = np.array([mu_1[i],mu_2[i]])\n",
    "    sigma = np.array([[1,-0.25],[-0.25,1]])\n",
    "    R = np.random.multivariate_normal(mean, sigma,size = n)\n",
    "    rob_res = poly_cvar_port_pos(p,alpha,R,f,l)\n",
    "    wc_risk[i] = rob_res[0]\n",
    "    wc_portfolio[i] = rob_res[1][0]"
   ]
  },
  {
   "cell_type": "code",
   "execution_count": 15,
   "id": "b3549fed",
   "metadata": {},
   "outputs": [
    {
     "name": "stdout",
     "output_type": "stream",
     "text": [
      "1\n",
      "2\n",
      "4\n",
      "5\n",
      "6\n",
      "7\n",
      "8\n",
      "9\n",
      "10\n",
      "11\n",
      "12\n",
      "13\n",
      "14\n",
      "16\n",
      "18\n",
      "19\n",
      "20\n",
      "21\n",
      "22\n",
      "23\n",
      "24\n",
      "25\n",
      "26\n",
      "28\n",
      "29\n",
      "30\n",
      "31\n",
      "32\n",
      "33\n",
      "34\n",
      "35\n",
      "36\n",
      "38\n",
      "39\n",
      "40\n",
      "41\n",
      "42\n",
      "43\n",
      "44\n",
      "45\n",
      "46\n",
      "47\n",
      "48\n",
      "49\n"
     ]
    },
    {
     "name": "stderr",
     "output_type": "stream",
     "text": [
      "C:\\Users\\gjin\\Anaconda3\\lib\\site-packages\\scipy\\optimize\\minpack.py:175: RuntimeWarning: The iteration is not making good progress, as measured by the \n",
      "  improvement from the last five Jacobian evaluations.\n",
      "  warnings.warn(msg, RuntimeWarning)\n"
     ]
    },
    {
     "name": "stdout",
     "output_type": "stream",
     "text": [
      "51\n",
      "52\n",
      "54\n",
      "55\n",
      "56\n",
      "57\n",
      "58\n",
      "59\n",
      "60\n",
      "62\n",
      "63\n",
      "64\n",
      "65\n",
      "66\n",
      "67\n",
      "68\n",
      "70\n",
      "71\n",
      "72\n",
      "73\n",
      "74\n",
      "75\n",
      "76\n",
      "77\n",
      "78\n",
      "79\n",
      "81\n",
      "82\n",
      "83\n",
      "84\n",
      "85\n",
      "86\n",
      "88\n",
      "91\n",
      "96\n",
      "97\n",
      "98\n",
      "99\n",
      "100\n",
      "101\n",
      "104\n",
      "105\n",
      "106\n",
      "108\n",
      "109\n",
      "111\n",
      "112\n",
      "114\n",
      "115\n",
      "116\n",
      "117\n",
      "118\n",
      "119\n",
      "120\n",
      "121\n",
      "122\n",
      "123\n",
      "124\n",
      "125\n",
      "126\n",
      "127\n",
      "128\n",
      "129\n",
      "130\n",
      "131\n",
      "132\n",
      "133\n",
      "134\n",
      "135\n",
      "136\n",
      "137\n",
      "138\n",
      "139\n",
      "140\n",
      "141\n",
      "142\n",
      "143\n",
      "144\n",
      "145\n",
      "148\n",
      "149\n",
      "150\n",
      "151\n",
      "152\n",
      "154\n",
      "155\n",
      "156\n",
      "157\n",
      "158\n",
      "159\n",
      "160\n",
      "162\n",
      "163\n",
      "164\n",
      "165\n",
      "166\n",
      "168\n",
      "170\n",
      "171\n",
      "172\n",
      "173\n",
      "174\n",
      "175\n",
      "176\n",
      "177\n",
      "179\n",
      "180\n",
      "181\n",
      "182\n",
      "183\n",
      "184\n",
      "185\n",
      "186\n",
      "187\n",
      "188\n",
      "189\n",
      "190\n",
      "191\n",
      "192\n",
      "193\n",
      "194\n",
      "195\n",
      "196\n",
      "197\n",
      "198\n",
      "199\n",
      "200\n",
      "201\n",
      "202\n",
      "203\n",
      "204\n",
      "205\n",
      "206\n",
      "207\n",
      "208\n",
      "209\n",
      "210\n",
      "211\n",
      "212\n",
      "213\n",
      "214\n",
      "215\n",
      "216\n",
      "217\n",
      "218\n",
      "219\n",
      "221\n",
      "222\n",
      "223\n",
      "225\n",
      "226\n",
      "227\n",
      "228\n",
      "229\n",
      "230\n",
      "231\n",
      "232\n",
      "234\n",
      "236\n",
      "239\n",
      "241\n",
      "242\n",
      "243\n",
      "244\n",
      "245\n",
      "246\n",
      "247\n",
      "248\n",
      "249\n",
      "250\n",
      "251\n",
      "252\n",
      "253\n",
      "254\n",
      "255\n",
      "256\n",
      "257\n",
      "259\n",
      "260\n",
      "261\n",
      "262\n",
      "263\n",
      "264\n",
      "265\n",
      "266\n",
      "268\n",
      "269\n",
      "270\n",
      "272\n",
      "273\n",
      "275\n",
      "276\n",
      "277\n",
      "279\n",
      "280\n",
      "282\n",
      "283\n",
      "284\n",
      "285\n",
      "286\n",
      "287\n",
      "288\n",
      "289\n",
      "290\n",
      "291\n",
      "292\n",
      "293\n",
      "294\n",
      "295\n",
      "296\n",
      "297\n",
      "298\n",
      "299\n"
     ]
    }
   ],
   "source": [
    "mu_1 = -0.1 + np.random.normal(0,0.032*2,size = 300)\n",
    "mu_2 = -1.5 + np.random.normal(0,0.032*2,size = 300)\n",
    "wc_risk = []\n",
    "alpha=0.05\n",
    "l=1\n",
    "p = 2\n",
    "n = 5000\n",
    "mean = np.array([-0.1, -1.5])\n",
    "sigma = np.array([[1,-0.25],[-0.25,1]])\n",
    "f = np.zeros(n)+1/n\n",
    "R = np.random.multivariate_normal(mean, sigma,size = n)\n",
    "rob_res = poly_cvar_port_pos(p,alpha,R,f,l)\n",
    "for i in range(len(mu_1)):\n",
    "    mean = np.array([mu_1[i],mu_2[i]])\n",
    "    sigma = np.array([[1,-0.25],[-0.25,1]])\n",
    "    R = np.random.multivariate_normal(mean, sigma,size = n)\n",
    "    port = R.dot(rob_res[1])\n",
    "    data2 = (p,port,alpha)\n",
    "    theta_0 = np.array([-0.069203,-1.32391])\n",
    "    root = fsolve(d_pcvar_pos, theta_0, args = data2)\n",
    "    root_value = d_pcvar_pos(root, *data2) \n",
    "    if np.max(root_value) <= 1e-5:\n",
    "        print(i)\n",
    "        wc_risk.append(wc_pcvar2(root,*data2))"
   ]
  },
  {
   "cell_type": "code",
   "execution_count": 29,
   "id": "98238028",
   "metadata": {},
   "outputs": [
    {
     "data": {
      "text/plain": [
       "<matplotlib.legend.Legend at 0x2016e19aa90>"
      ]
     },
     "execution_count": 29,
     "metadata": {},
     "output_type": "execute_result"
    },
    {
     "data": {
      "image/png": "[encoded data removed]",
      "text/plain": [
       "<Figure size 432x288 with 1 Axes>"
      ]
     },
     "metadata": {
      "needs_background": "light"
     },
     "output_type": "display_data"
    }
   ],
   "source": [
    "dt1 = pd.DataFrame(data = {'wc_risk': wc_risk})\n",
    "plt.hist(dt1, density = True, bins = 30, rwidth=0.9)\n",
    "plt.xlabel('risk')\n",
    "plt.ylabel('frequence')\n",
    "plt.legend(dt1.columns)"
   ]
  },
  {
   "cell_type": "code",
   "execution_count": 8,
   "id": "85f2f8c6",
   "metadata": {},
   "outputs": [
    {
     "data": {
      "text/plain": [
       "-2.346846958659985"
      ]
     },
     "execution_count": 8,
     "metadata": {},
     "output_type": "execute_result"
    }
   ],
   "source": [
    "rob_res[0]"
   ]
  }
 ],
 "metadata": {
  "kernelspec": {
   "display_name": "Python 3 (ipykernel)",
   "language": "python",
   "name": "python3"
  },
  "language_info": {
   "codemirror_mode": {
    "name": "ipython",
    "version": 3
   },
   "file_extension": ".py",
   "mimetype": "text/x-python",
   "name": "python",
   "nbconvert_exporter": "python",
   "pygments_lexer": "ipython3",
   "version": "3.11.4"
  }
 },
 "nbformat": 4,
 "nbformat_minor": 5
}
