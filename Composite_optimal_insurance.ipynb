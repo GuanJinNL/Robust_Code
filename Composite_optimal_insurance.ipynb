{
 "cells": [
  {
   "cell_type": "code",
   "execution_count": 4,
   "id": "6c15093f",
   "metadata": {},
   "outputs": [],
   "source": [
    "import numpy as np\n",
    "import cvxpy as cp\n",
    "import pandas as pd\n",
    "import mosek\n",
    "import matplotlib.pyplot as plt\n",
    "import Hit_and_Run as hr\n",
    "import phi_divergence as phi\n",
    "from scipy.optimize import fsolve"
   ]
  },
  {
   "cell_type": "code",
   "execution_count": 39,
   "id": "8f0db1b1",
   "metadata": {},
   "outputs": [],
   "source": [
    "def opt_ins_polycvar(p,alpha,d,B,l,pi):\n",
    "    N = len(p)\n",
    "    x = cp.Variable(N)\n",
    "    t = cp.Variable(N)\n",
    "    s = cp.Variable(N)\n",
    "    z = cp.Variable(N, nonneg= True)\n",
    "    eta = cp.Variable(1)\n",
    "    theta = cp.Variable(1)\n",
    "    constraints = [x @ pi == B, 1-s/l*(1-d) <= z]\n",
    "    for i in range(N):\n",
    "        constraints.append(theta + 1/alpha * cp.pos(eta - x[i]) <= s[i])\n",
    "        constraints.append(1/d*z[i]**(d/(d-1))-1/d <= t[i]/l )\n",
    "    obj = cp.Maximize(eta+theta-p @ t)\n",
    "    prob = cp.Problem(obj,constraints)\n",
    "    prob.solve(solver = cp.MOSEK)\n",
    "    return(prob.value, x.value)\n",
    "        \n",
    "def cvar(alpha,x,f):\n",
    "    eta = cp.Variable(1)\n",
    "    dom = cp.Variable(1)\n",
    "    constraints = [dom==1]\n",
    "    n = len(x)\n",
    "    som = 0\n",
    "    for i in range(n):\n",
    "        som = som + f[i]*cp.neg(x[i]+eta)\n",
    "    obj = cp.Minimize(eta+1/alpha*som)\n",
    "    prob = cp.Problem(obj,constraints)\n",
    "    prob.solve(solver = cp.MOSEK)\n",
    "    return(-prob.value)"
   ]
  },
  {
   "cell_type": "code",
   "execution_count": 46,
   "id": "b0923455",
   "metadata": {},
   "outputs": [
    {
     "data": {
      "text/plain": [
       "(0.19830186318170467,\n",
       " array([0.19830188, 0.19830187, 0.19830187, 0.19830188, 0.19830187,\n",
       "        0.19830188, 0.19830187, 0.19830188, 0.19830187, 0.19830188,\n",
       "        0.19830188, 0.19830188, 0.19830188, 0.19830187, 0.19830187,\n",
       "        0.19830187, 0.19830187, 0.19830187, 0.19830188, 0.19830188,\n",
       "        0.19830187, 0.19830188, 0.19830187, 0.19830188, 0.19830187,\n",
       "        0.19830188, 0.19830188, 0.19830188, 0.19830188, 0.19830187,\n",
       "        0.19830187, 0.19830187, 0.19830188, 0.19830188, 0.19830188,\n",
       "        0.19830188, 0.19830188, 0.19830187, 0.19830188, 0.19830188,\n",
       "        0.19830188, 0.19830187, 0.19830187, 0.19830187, 0.19830187,\n",
       "        0.19830187, 0.19830187, 0.19830188, 0.19830187, 0.19830187,\n",
       "        0.19830187, 0.19830187, 0.19830187, 0.19830187, 0.19830187,\n",
       "        0.19830187, 0.19830187, 0.19830187, 0.19830188, 0.19830187,\n",
       "        0.19830187, 0.19830188, 0.19830187, 0.19830187, 0.19830188,\n",
       "        0.19830188, 0.19830187, 0.19830188, 0.19830188, 0.19830187,\n",
       "        0.19830187, 0.19830188, 0.19830187, 0.19830187, 0.19830188,\n",
       "        0.19830188, 0.19830188, 0.19830187, 0.19830188, 0.19830187,\n",
       "        0.19830188, 0.19830188, 0.19830188, 0.19830187, 0.19830187,\n",
       "        0.19830187, 0.19830187, 0.19830188, 0.19830187, 0.19830188,\n",
       "        0.19830188, 0.19830188, 0.19830188, 0.19830187, 0.19830187,\n",
       "        0.19830188, 0.19830187, 0.19830188, 0.19830188, 0.19830188]))"
      ]
     },
     "execution_count": 46,
     "metadata": {},
     "output_type": "execute_result"
    }
   ],
   "source": [
    "N = 100\n",
    "p = np.zeros(N)+1/N\n",
    "l = 1\n",
    "B=100\n",
    "pi = np.random.rand(N)*10\n",
    "d = 2\n",
    "alpha = 0.1\n",
    "opt_ins_polycvar(p,alpha,d,B,l,pi)"
   ]
  },
  {
   "cell_type": "code",
   "execution_count": 44,
   "id": "49c386ef",
   "metadata": {},
   "outputs": [
    {
     "data": {
      "text/plain": [
       "2.368421052631579"
      ]
     },
     "execution_count": 44,
     "metadata": {},
     "output_type": "execute_result"
    }
   ],
   "source": [
    "x = np.array([0,1,2,3,4,5])\n",
    "f = np.zeros(6) + 1/6\n",
    "cvar(0.95,x,f)"
   ]
  }
 ],
 "metadata": {
  "kernelspec": {
   "display_name": "Python 3",
   "language": "python",
   "name": "python3"
  },
  "language_info": {
   "codemirror_mode": {
    "name": "ipython",
    "version": 3
   },
   "file_extension": ".py",
   "mimetype": "text/x-python",
   "name": "python",
   "nbconvert_exporter": "python",
   "pygments_lexer": "ipython3",
   "version": "3.8.8"
  }
 },
 "nbformat": 4,
 "nbformat_minor": 5
}
